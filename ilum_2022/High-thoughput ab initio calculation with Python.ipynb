{
 "cells": [
  {
   "cell_type": "markdown",
   "metadata": {},
   "source": [
    "#  High-thoughput ab initio calculation with Python\n",
    "\n",
    "Tutorial para o evento **Machine Learning School for Materials**, Ilum, CNPEM, 2022.\n",
    "\n",
    "Henrique Ferreira dos Santos (hfsantos@ufabc.edu.br)\n",
    "\n",
    "---------------------------------"
   ]
  },
  {
   "cell_type": "markdown",
   "metadata": {},
   "source": [
    "# Parte 1 - Screening \n",
    "\n",
    "Antes de iniciar as contas **High Throughput** vamos obter informações de bases de dados de contas DFT.\n",
    "\n",
    "O **screening** é o procedimento de busca e seleção de materiais nessas bases de dados, de maneira automatizada e baseado em critérios estebelecidos pelo pesquisador.\n",
    "\n",
    "Como exemplo, vamos realizar um estudo de semicontudores de **Ultrawide Bandgap** (UWBG semiconductors). Inicialmente vamos buscar nas bases de dados compostos químicos que já foram simulados e apresentam gap ultra largo. Em seguida, vamos filtrá-los com uma série de critérios que iremos estabelecer. Por fim, selecionaremos um composto da lista final para realizar um estudo mais detalhado que será feito na Parte 2 desse tutorial.\n"
   ]
  },
  {
   "cell_type": "markdown",
   "metadata": {},
   "source": [
    "### Bibliotecas utilizadas"
   ]
  },
  {
   "cell_type": "code",
   "execution_count": null,
   "metadata": {},
   "outputs": [],
   "source": [
    "#!pip install pymatgen  # Caso não tenha a biblioteca pymatgen, você pode instalá-la usando este comando"
   ]
  },
  {
   "cell_type": "code",
   "execution_count": null,
   "metadata": {},
   "outputs": [],
   "source": [
    "# Pymatgen is a open-source librarie for materials analysis\n",
    "from pymatgen.ext.matproj  import MPRester                         # API requester for Materials project\n",
    "from pymatgen.core.periodic_table import Element                   # Class to represent Element in pymatgen\n",
    "from pymatgen.io import vasp                                       # Interface with VASP\n",
    "from pymatgen.electronic_structure.plotter import BSPlotter        # Plotar a estrutura de bandas\n",
    "\n",
    "import pandas as pd   # Working with tables\n",
    "\n",
    "import os\n",
    "import time"
   ]
  },
  {
   "cell_type": "markdown",
   "metadata": {},
   "source": [
    "## Critérios de busca\n",
    "\n",
    "- [ ] Materiais ternários\n",
    "- [ ] Elementos não radioativos\n",
    "- [ ] Bandgap entre 4 e 12 eV\n",
    "- [ ] Têm gap direto\n",
    "- [ ] Estrutura de bandas foi reportada\n",
    "- [ ] Tem entrada no ICSD\n",
    "- [ ] Materiais termodinamicamente estáveis (estão no convex hull)\n",
    "- [ ] Tem pelo menos uma rota de síntese conhecida"
   ]
  },
  {
   "cell_type": "markdown",
   "metadata": {},
   "source": [
    "### Elementos não radioativos"
   ]
  },
  {
   "cell_type": "code",
   "execution_count": null,
   "metadata": {},
   "outputs": [],
   "source": [
    "# Gerando a lista de elementos não radioativos\n",
    "\n",
    "def desired_element(elem):\n",
    "    omit = ['Po', 'At', 'Rn', 'Fr', 'Ra']\n",
    "    return not elem.is_noble_gas and not elem.is_actinoid and not elem.symbol in omit\n",
    "\n",
    "element_universe = [e for e in Element if desired_element(e)]\n",
    "omitted_elements = [e for e in Element if e not in element_universe]\n",
    "elements = [e.symbol for e in element_universe] \n",
    "\n",
    "print(\"Número de elementos incluídos =\", len(element_universe))\n",
    "print(\"Elementos excluídos: \", \" \".join(sorted([e.symbol for e in omitted_elements])))"
   ]
  },
  {
   "cell_type": "markdown",
   "metadata": {},
   "source": [
    "### Base de busca - Materials Project\n",
    "O Materials Project é um base de dados pública. \n",
    "\n",
    "Os critérios de busca do Materials Project são limitados a uma lista de propriedades que pode ser consultada aqui https://workshop.materialsproject.org/lessons/04_materials_api/MAPI%20Lesson%20%28filled%29/.\n",
    "\n",
    "O Materials Project é feito usando tecnologia MongoDB para o banco de dados. Dessa forma, a query pode ser aperfeiçoada usando a sintaxe desse banco de dados. A sintaxe pode ser consultada em https://www.mongodb.com/docs/manual/reference/operator/query/\n",
    "\n",
    "As propriedades que são possiveis de serem capturadas estão em https://github.com/materialsproject/mapidoc/materials. A princípio, todas as pastas são informações que podem ser acessadas. Entretanto, nem todas as informações podem ser acessadas em uma query geral (precisam ser acessadas via query específica para um material) e algumas delas podem não estar presentes (faltam para aquele material)."
   ]
  },
  {
   "cell_type": "code",
   "execution_count": null,
   "metadata": {},
   "outputs": [],
   "source": [
    "# Critérios de busca na base de dados\n",
    "criteria = {'nelements':{'$in': [3]},            # Somente materiais ternários\n",
    "            'band_gap':{'$gte': 4, '$lte': 12},  # Bandgap está entre 4 e 12 (gte >= and lte <=)\n",
    "            'elements':{'$in':elements},         # Lista de elementos permitidos\n",
    "            '$where':'this.icsd_ids.length>0',   # Tem entrada no ICSD\n",
    "            'band_gap.search_gap.is_direct': {'$eq': True}, # Bandgap direto\n",
    "            'has_bandstructure':{'$eq': True}    # Estrutura de bandas foi calculada\n",
    "           } \n",
    "\n",
    "# Propriedades buscadas\n",
    "properties =['material_id', 'icsd_ids', 'pretty_formula','elements', 'band_gap','formation_energy_per_atom',\n",
    "             'e_above_hull', 'spacegroup']\n",
    "\n",
    "# Chave de acesso\n",
    "apikey = ''"
   ]
  },
  {
   "cell_type": "code",
   "execution_count": null,
   "metadata": {},
   "outputs": [],
   "source": [
    "# Chamada API rest para requisitar os dados ao servidor do MP\n",
    "with MPRester(apikey) as mpr:\n",
    "    results = mpr.query(criteria, properties)"
   ]
  },
  {
   "cell_type": "markdown",
   "metadata": {},
   "source": [
    "Armazenamos os resultados da requisição (488 materiais) na variável <code>result</code>.\n",
    "\n",
    "Para facilitar o trabalho com essa variável, vamos transformá-la em uma tabela via pandas do tipo <code>DataFrame</code>:"
   ]
  },
  {
   "cell_type": "code",
   "execution_count": null,
   "metadata": {},
   "outputs": [],
   "source": [
    "mat_list0 = pd.DataFrame(data = results)"
   ]
  },
  {
   "cell_type": "code",
   "execution_count": null,
   "metadata": {},
   "outputs": [],
   "source": [
    "type(mat_list0)"
   ]
  },
  {
   "cell_type": "code",
   "execution_count": null,
   "metadata": {},
   "outputs": [],
   "source": [
    "len(mat_list0) # Quantidade de entradas retornadas"
   ]
  },
  {
   "cell_type": "code",
   "execution_count": null,
   "metadata": {},
   "outputs": [],
   "source": [
    "mat_list0.head(10) # Olhando as 10 primeiras linhas da tabela de materiais"
   ]
  },
  {
   "cell_type": "markdown",
   "metadata": {},
   "source": [
    "A coluna <code>spacegroup</code> é do tipo dicionário (dict). Vamos transformar cada chave do dicionário em uma nova coluna:"
   ]
  },
  {
   "cell_type": "code",
   "execution_count": null,
   "metadata": {},
   "outputs": [],
   "source": [
    "# Rearranja as informações dos grupos espaciais\n",
    "mat_list0[['symprec',\n",
    "          'source',\n",
    "          'symbol',\n",
    "          'number',\n",
    "          'point_group',\n",
    "          'crystal_system',\n",
    "          'hall']] = mat_list0.spacegroup.apply(pd.Series)\n",
    "mat_list0 = mat_list0.drop('spacegroup', axis=1)"
   ]
  },
  {
   "cell_type": "code",
   "execution_count": null,
   "metadata": {},
   "outputs": [],
   "source": [
    "mat_list0.head()"
   ]
  },
  {
   "cell_type": "markdown",
   "metadata": {},
   "source": [
    "### Estatísticas Básicas\n",
    "\n",
    "Pelos nossos filtros de busca, a solicitação para o banco de dados retornou apenas materiais que respeitavam os seguintes critérios:\n",
    "\n",
    "- [x] Materiais ternários\n",
    "- [x] Elementos não radioativos\n",
    "- [x] Bandgap entre 4 e 12 eV\n",
    "- [x] Têm gap direto\n",
    "- [x] Estrutura de bandas foi reportada\n",
    "- [x] Tem entrada no ICSD\n",
    "- [ ] Materiais termodinamicamente estáveis (estão no convex hull)\n",
    "- [ ] Tem pelo menos uma rota de síntese conhecida\n",
    "Vamos visualizar algumas informações estatísticas básicas dos compostos que temos até o momento:"
   ]
  },
  {
   "cell_type": "code",
   "execution_count": null,
   "metadata": {},
   "outputs": [],
   "source": [
    "mat_list0.describe() # Gera informações estatísticas das colunas numéricas"
   ]
  },
  {
   "cell_type": "code",
   "execution_count": null,
   "metadata": {},
   "outputs": [],
   "source": [
    "mat_list0.hist('band_gap')  # Plota o histograma do bandgap"
   ]
  },
  {
   "cell_type": "code",
   "execution_count": null,
   "metadata": {},
   "outputs": [],
   "source": [
    "mat_list0.crystal_system.value_counts().plot(kind='bar')  # Distribuição dos sistemas cristalinos"
   ]
  },
  {
   "cell_type": "code",
   "execution_count": null,
   "metadata": {},
   "outputs": [],
   "source": [
    "mat_list0.groupby('crystal_system')['band_gap'].describe()"
   ]
  },
  {
   "cell_type": "markdown",
   "metadata": {},
   "source": [
    "### Materiais Estáveis\n",
    "Agora vamos filtrar apenas os estáveis:"
   ]
  },
  {
   "cell_type": "code",
   "execution_count": null,
   "metadata": {},
   "outputs": [],
   "source": [
    "mat_list1 = mat_list0[mat_list0['e_above_hull']==0]"
   ]
  },
  {
   "cell_type": "code",
   "execution_count": null,
   "metadata": {},
   "outputs": [],
   "source": [
    "mat_list1.describe()"
   ]
  },
  {
   "cell_type": "markdown",
   "metadata": {},
   "source": [
    "### Rotas de Síntese\n",
    "\n",
    "Vamos verificar se existem rotas de sintese conhecidas para esses materiais. Para fazer isso precisaremos de dados adicionais que não existem no Materials Project. Aqui vamos utilizar a base de dados disponibilizada em https://github.com/CederGroupHub/text-mined-synthesis_public. Essa base de dados foi levantada usando-se ferramentas de Processamento de Linguagem Natural em cima de diversos artigos científicos.\n",
    "\n",
    "No link, existem três arquivos <code>.json</code> comprimidos no formato <code>.xz</code>. Vamos escolher o  <code>solid-state_dataset_2019-12-03.json.xz</code>. Devemos baixá-lo e descompactá-lo. Em seguida, caso o ambiente usado seja o Google Colab, você deverá subir o arquivo na pasta lateral esquerda, ou usar o seguinte comando para baixar o arquivo e descompactá-lo automaticamente (atenção, este comando funciona melhor em ambientes Linux, como o Google Colab - se você estiver rodando na sua máquina local com Windows, considere abrir o arquivo diretamente pulado a próxima célula):"
   ]
  },
  {
   "cell_type": "code",
   "execution_count": null,
   "metadata": {},
   "outputs": [],
   "source": [
    "#!wget https://github.com/CederGroupHub/text-mined-synthesis_public/raw/master/solid-state_dataset_2019-12-03.json.xz && xz -d solid-state_dataset_2019-12-03.json.xz"
   ]
  },
  {
   "cell_type": "code",
   "execution_count": null,
   "metadata": {},
   "outputs": [],
   "source": [
    "synth_data = pd.read_json('solid-state_dataset_2019-12-03.json')"
   ]
  },
  {
   "cell_type": "code",
   "execution_count": null,
   "metadata": {},
   "outputs": [],
   "source": [
    "synth_data.head()"
   ]
  },
  {
   "cell_type": "code",
   "execution_count": null,
   "metadata": {},
   "outputs": [],
   "source": [
    "len(synth_data) # Quantidade de entradas"
   ]
  },
  {
   "cell_type": "markdown",
   "metadata": {},
   "source": [
    "Como as informações que vieram estão em duas colunas, vamos olhar quais são os atributos do objeto <code>dict</code> que estão na coluna <code>reactions</code>."
   ]
  },
  {
   "cell_type": "code",
   "execution_count": null,
   "metadata": {},
   "outputs": [],
   "source": [
    "synth_data['reactions'][0].keys()"
   ]
  },
  {
   "cell_type": "markdown",
   "metadata": {},
   "source": [
    "Da mesma forma que fizemos para o grupo espacial, podemos fazer para este caso, criando uma nova coluna para cada atributo (chave) do dicionário:"
   ]
  },
  {
   "cell_type": "code",
   "execution_count": null,
   "metadata": {},
   "outputs": [],
   "source": [
    "# Rearranja as informações \n",
    "synth_data[list(synth_data['reactions'][0].keys())] = synth_data.reactions.apply(pd.Series)\n",
    "synth_data = synth_data.drop('reactions', axis=1) # Deletando a coluna reactions original"
   ]
  },
  {
   "cell_type": "code",
   "execution_count": null,
   "metadata": {},
   "outputs": [],
   "source": [
    "synth_data.head()"
   ]
  },
  {
   "cell_type": "markdown",
   "metadata": {},
   "source": [
    "Como queremos saber se o composto alvo da síntese está na nossa lista de compostos UWBG iremos arrumar a coluna <code>target</code>: "
   ]
  },
  {
   "cell_type": "code",
   "execution_count": null,
   "metadata": {},
   "outputs": [],
   "source": [
    "synth_data['target'][0].keys()"
   ]
  },
  {
   "cell_type": "code",
   "execution_count": null,
   "metadata": {},
   "outputs": [],
   "source": [
    "# Rearranja as informações \n",
    "synth_data[list(synth_data['target'][0].keys())] = synth_data.target.apply(pd.Series)\n",
    "synth_data = synth_data.drop('target', axis=1)"
   ]
  },
  {
   "cell_type": "code",
   "execution_count": null,
   "metadata": {},
   "outputs": [],
   "source": [
    "synth_data.head()"
   ]
  },
  {
   "cell_type": "markdown",
   "metadata": {},
   "source": [
    "Agora vamos usar a coluna <code>mp_id</code> que contém um identificador de entrada no Materials Project para comparar os dois:"
   ]
  },
  {
   "cell_type": "code",
   "execution_count": null,
   "metadata": {},
   "outputs": [],
   "source": [
    "mat_list2 = mat_list1.merge(synth_data, left_on='material_id', right_on='mp_id')"
   ]
  },
  {
   "cell_type": "code",
   "execution_count": null,
   "metadata": {},
   "outputs": [],
   "source": [
    "mat_list2.head()"
   ]
  },
  {
   "cell_type": "markdown",
   "metadata": {},
   "source": [
    "Neste ponto podemos ter mais de uma linha para o mesmo composto caso haja mais de um rota de síntese na base de dados usada. Observe que na tabela dos compostos do MP haviamos encotnrado apenas 249, e que acgoram temos 340 entradas (mais de uma por material!). Podemos querer uma versão reduzida somente com os compostos únicos:"
   ]
  },
  {
   "cell_type": "code",
   "execution_count": null,
   "metadata": {},
   "outputs": [],
   "source": [
    "len(mat_list2) # Total de linhas (podendo conter duplicidades devido a mais de uma rota de síntese)"
   ]
  },
  {
   "cell_type": "code",
   "execution_count": null,
   "metadata": {},
   "outputs": [],
   "source": [
    "mat_list3 = mat_list2.drop_duplicates(subset=['material_id'])"
   ]
  },
  {
   "cell_type": "code",
   "execution_count": null,
   "metadata": {},
   "outputs": [],
   "source": [
    "len(mat_list3) # Lista reduzida com compostos únicos"
   ]
  },
  {
   "cell_type": "markdown",
   "metadata": {},
   "source": [
    "Dessa forma, concluímos que apenas 38 materiais atendem os critérios estabelecidos, levando-se em consideração as duas bases de dados utilizadas:\n",
    "\n",
    "- [x] Materiais ternários\n",
    "- [x] Elementos não radioativos\n",
    "- [x] Bandgap entre 4 e 12 eV\n",
    "- [x] Têm gap direto\n",
    "- [x] Estrutura de bandas foi reportada\n",
    "- [x] Tem entrada no ICSD\n",
    "- [x] Materiais termodinamicamente estáveis (estão no convex hull)\n",
    "- [x] Tem pelo menos uma rota de síntese conhecida"
   ]
  },
  {
   "cell_type": "code",
   "execution_count": null,
   "metadata": {},
   "outputs": [],
   "source": [
    "mat_list3['pretty_formula'].values"
   ]
  },
  {
   "cell_type": "markdown",
   "metadata": {},
   "source": [
    "Vamos escolher um desses materiais para estudar em detalhe: **CaAlF5**"
   ]
  },
  {
   "cell_type": "code",
   "execution_count": null,
   "metadata": {},
   "outputs": [],
   "source": [
    "selected_material = mat_list2[mat_list2['pretty_formula']=='CaAlF5'] # Estamos pegando na lista 2 com todas as rotas"
   ]
  },
  {
   "cell_type": "code",
   "execution_count": null,
   "metadata": {},
   "outputs": [],
   "source": [
    "selected_material"
   ]
  },
  {
   "cell_type": "code",
   "execution_count": null,
   "metadata": {},
   "outputs": [],
   "source": [
    "selected = 'mp-8836' # ID do Materials Project do material escolhido"
   ]
  },
  {
   "cell_type": "code",
   "execution_count": null,
   "metadata": {},
   "outputs": [],
   "source": [
    "selected_material.keys() # Propriedades nas tabelas manipuladas"
   ]
  },
  {
   "cell_type": "markdown",
   "metadata": {},
   "source": [
    "### Rota de Síntese"
   ]
  },
  {
   "cell_type": "code",
   "execution_count": null,
   "metadata": {},
   "outputs": [],
   "source": [
    "selected_material['reaction_string'].values"
   ]
  },
  {
   "cell_type": "code",
   "execution_count": null,
   "metadata": {},
   "outputs": [],
   "source": [
    "selected_material['operations'].values"
   ]
  },
  {
   "cell_type": "markdown",
   "metadata": {},
   "source": [
    "### Estrutura Eletrônica"
   ]
  },
  {
   "cell_type": "code",
   "execution_count": null,
   "metadata": {},
   "outputs": [],
   "source": [
    "with MPRester(apikey) as mpr:\n",
    "    bs = mpr.get_bandstructure_by_material_id(selected)"
   ]
  },
  {
   "cell_type": "code",
   "execution_count": null,
   "metadata": {},
   "outputs": [],
   "source": [
    "type(bs)"
   ]
  },
  {
   "cell_type": "code",
   "execution_count": null,
   "metadata": {},
   "outputs": [],
   "source": [
    "bs.get_band_gap()"
   ]
  },
  {
   "cell_type": "code",
   "execution_count": null,
   "metadata": {},
   "outputs": [],
   "source": [
    "efermi=bs.efermi\n",
    "print(efermi)  # Energia de Fermi eV"
   ]
  },
  {
   "cell_type": "code",
   "execution_count": null,
   "metadata": {},
   "outputs": [],
   "source": [
    "bsp = BSPlotter(bs)\n",
    "bsp.get_plot(zero_to_efermi=True).show() # Plote automatico do Pymatgen\n",
    "#bsp.bs_plot_data(zero_to_efermi=True)   # Pega os dados em forma de dicionário para fazer o plot manual"
   ]
  },
  {
   "cell_type": "markdown",
   "metadata": {},
   "source": [
    "### Estrutura Cristalina"
   ]
  },
  {
   "cell_type": "code",
   "execution_count": null,
   "metadata": {},
   "outputs": [],
   "source": [
    "with MPRester(apikey) as mpr:\n",
    "    structure = mpr.get_structure_by_material_id(selected)"
   ]
  },
  {
   "cell_type": "code",
   "execution_count": null,
   "metadata": {},
   "outputs": [],
   "source": [
    "structure.lattice.alpha"
   ]
  },
  {
   "cell_type": "code",
   "execution_count": null,
   "metadata": {},
   "outputs": [],
   "source": [
    "# OBS: A variável bs que armazena a estrutura eletrônica, também armazena a estrutura cristalina\n",
    "#bs.structure"
   ]
  },
  {
   "cell_type": "markdown",
   "metadata": {},
   "source": [
    "Vamos salvar essa estrutura em um arquivo <code>POSCAR</code> dentro de uma pasta com o nome do composto <code>proto_CaAlF5</code>, que ficará dentro de uma pasta geral <code>ht</code>. "
   ]
  },
  {
   "cell_type": "code",
   "execution_count": null,
   "metadata": {},
   "outputs": [],
   "source": [
    "poscar = vasp.inputs.Poscar(structure)"
   ]
  },
  {
   "cell_type": "code",
   "execution_count": null,
   "metadata": {},
   "outputs": [],
   "source": [
    "master_folder = 'ht'\n",
    "material_folder = 'proto_CaAlF5'\n",
    "filename = 'POSCAR'"
   ]
  },
  {
   "cell_type": "code",
   "execution_count": null,
   "metadata": {},
   "outputs": [],
   "source": [
    "os.mkdir(master_folder)\n",
    "os.mkdir(master_folder+'/'+material_folder)"
   ]
  },
  {
   "cell_type": "code",
   "execution_count": null,
   "metadata": {},
   "outputs": [],
   "source": [
    "poscar.write_file(master_folder+'/'+material_folder+'/'+filename)"
   ]
  },
  {
   "cell_type": "markdown",
   "metadata": {},
   "source": [
    "Uma pergunta interessante é: <font color='red'>se trocarmos cada elemento desse composto por outro elemento com alta semelhança química, ainda obtemos um UWBG estável e sintetizável?</font> \n",
    "\n",
    "Visando responder isso, vamos realizar a Parte 2 desse tutorial, onde definiremos simulações DFT de novos materiais.\n",
    "\n",
    "-------------------------------------------------"
   ]
  },
  {
   "cell_type": "markdown",
   "metadata": {},
   "source": [
    "# Parte 2 - Configurando as entradas para contas HT \n",
    "\n",
    "Nesta etapa, já temos a pergunta e o objeto de estudo oriundas da Parte 1: CaAlF5 (mp-8836)\n",
    "\n",
    "Vamos estabelecer que a similaridade química será definida por elementos do mesmo grupo químico. Vamos desconsiderar o Rádio (Ra) e o Ástato (At).\n",
    "\n",
    "Como *solver* de Mecânica Quântica, vamos utilizar o software VASP.\n",
    "\n",
    "Estamos assumindo que as contas serão realizadas em um cluster com gerenciador de fila (como o SLURM) e que não iremos utilizar nenhuma biblioteca adicional para auxiliar no gerenciamento das contas, exceto aquelas de pré-processamento (Parte 2) e pós-processamento (Parte 3).\n",
    "\n",
    "Em caso de uso de clusters sem fila, sugere-se uso da biblioteca ASE (https://wiki.fysik.dtu.dk/ase/) para submissão de cálculos direto pelo código Python. Para usuários mais avançados que requeiram altas vazões de contas, inclusive em clusters com gereciamento de fila, sugere-se o uso do AiiDA (https://www.aiida.net/)."
   ]
  },
  {
   "cell_type": "code",
   "execution_count": null,
   "metadata": {},
   "outputs": [],
   "source": [
    "from pymatgen.io import vasp                                       # Interface with VASP\n",
    "from pymatgen.core.structure import Structure                      # Class to represent Structures in pymatgen\n",
    "from pymatgen.core.composition import Composition                  # Class to represent Composition in pymatgen\n",
    "from pymatgen.core.periodic_table import Element                   # Class to represent Element in pymatgen\n",
    "from pymatgen.symmetry.analyzer import SpacegroupAnalyzer          # Methods to analyze space groups of materials\n",
    "\n",
    "import shutil\n",
    "import os"
   ]
  },
  {
   "cell_type": "markdown",
   "metadata": {},
   "source": [
    "### Criando novos materiais e configurando arquivos VASP\n",
    "\n",
    "Nessa primeira etapa estamos interessados em fazer a atualização das posições ionicas para encontrar as estruturas com menor enegia (convergidas).\n",
    "\n",
    "Vamos utilizar a estrutura original do CaAlF5 como protótipo e manter a simetria, trocando apenas os átomos dos elementos da mesma coluna da tabela periódica.\n",
    "\n",
    "Primeiro vamos carregar nosso protótipo:"
   ]
  },
  {
   "cell_type": "code",
   "execution_count": null,
   "metadata": {},
   "outputs": [],
   "source": [
    "input_folder = 'ht/proto_CaAlF5'  # Pasta onde está a estrutura inicial (POSCAR) usada como protótipo\n",
    "proto_poscar = Structure.from_file(input_folder+\"/POSCAR\")  # Estrutura protótipo"
   ]
  },
  {
   "cell_type": "code",
   "execution_count": null,
   "metadata": {},
   "outputs": [],
   "source": [
    "proto_space_group = SpacegroupAnalyzer(proto_poscar, symprec=0.1, angle_tolerance=1.0)\n",
    "proto_space_group.get_space_group_number()"
   ]
  },
  {
   "cell_type": "markdown",
   "metadata": {},
   "source": [
    "Vamos usar as seguintes configurações de arquivos VASP:"
   ]
  },
  {
   "cell_type": "code",
   "execution_count": null,
   "metadata": {},
   "outputs": [],
   "source": [
    "incar_rx = {\n",
    "\"ALGO\": \"Normal\",\n",
    "\"EDIFF\": \"0.000001\",\n",
    "\"ENCUT\": 520,\n",
    "\"IBRION\": 2,\n",
    "\"ISIF\": 3,\n",
    "\"ISMEAR\": 0,\n",
    "\"ISPIN\": 1,\n",
    "\"LASPH\": True,\n",
    "\"LORBIT\": 11,\n",
    "\"LREAL\": \"Auto\",\n",
    "\"LWAVE\": False,\n",
    "\"LCHARG\":False,\n",
    "\"NELM\": 100,\n",
    "\"NSW\": 900,\n",
    "\"SIGMA\": 0.05,\n",
    "\"NPAR\": 6\n",
    "}\n",
    "\n",
    "auto_kpoints = 25"
   ]
  },
  {
   "cell_type": "markdown",
   "metadata": {},
   "source": [
    "Agora iremos criar a estrutura de pasta com todos os arquivos necessários para submeter as contas e todos os novos compostos:"
   ]
  },
  {
   "cell_type": "code",
   "execution_count": null,
   "metadata": {},
   "outputs": [],
   "source": [
    "# Lista de elementos que serão usados para fazer as substituições químicas\n",
    "earthalk_list = ['Be','Mg','Ca','Sr','Ba']\n",
    "boron_list = ['B','Al','Ga','In','Tl']\n",
    "halogen_list = ['F','Cl','Br','I']"
   ]
  },
  {
   "cell_type": "code",
   "execution_count": null,
   "metadata": {},
   "outputs": [],
   "source": [
    "calculations_folder = 'ht/rx'\n",
    "os.mkdir(calculations_folder)\n",
    "pseudos_src_path = 'pp/'\n",
    "\n",
    "for e1 in earthalk_list:\n",
    "    for e2 in boron_list:\n",
    "        for e3 in halogen_list:\n",
    "            \n",
    "            # Nova pasta para o novo material em disco\n",
    "            output_folder=calculations_folder+'/'+e1+e2+e3+'5'\n",
    "            os.mkdir(output_folder)\n",
    "            \n",
    "            temp_structure = proto_poscar.copy()          # Cópia da estrutura original em memória\n",
    "\n",
    "            if not(e1=='Ca' and e2=='Al' and e3=='F'):\n",
    "                for i, element in enumerate(proto_poscar):    # Para dada atomo na estrutura\n",
    "                    element_str = str(element.species)        # Pega o atomo no sítio\n",
    "                    element_str = element_str.replace('1','') # Remove o número de estequiometria (no caso o número é 1)\n",
    "\n",
    "                    # Troca apenas elementos da mesma familia\n",
    "                    if element_str in earthalk_list:\n",
    "                        temp_structure.replace(i,e1)\n",
    "                    elif element_str in boron_list:\n",
    "                        temp_structure.replace(i,e2)\n",
    "                    elif element_str in halogen_list:\n",
    "                        temp_structure.replace(i,e3)\n",
    "\n",
    "            # Aviso de que a eventualmente uma estrutura não manteve a simetria pretendida\n",
    "            space_group = SpacegroupAnalyzer(temp_structure, symprec=0.1, angle_tolerance=1.0)\n",
    "            if not(space_group.get_space_group_number()==proto_space_group.get_space_group_number()):\n",
    "                print('Warning: Estrutura '+e1+e2+e3+'5 com grupo espacial diferente do protótipo!') \n",
    "\n",
    "            # Criar o novo POSCAR na pasta de destino\n",
    "            new_poscar = vasp.inputs.Poscar(temp_structure)\n",
    "            new_poscar.write_file(output_folder+'/POSCAR')\n",
    "            \n",
    "            # Criar o arquivo KPOINTS na pasta de destino\n",
    "            kpoints = vasp.Kpoints().automatic(auto_kpoints)  # Método automatico com auto_kpoints (25) pontos\n",
    "            kpoints.write_file(output_folder+'/KPOINTS')\n",
    "            \n",
    "            # Criar arquivo INCAR na pasta de destino\n",
    "            incar = vasp.Incar(incar_rx)\n",
    "            incar.write_file(output_folder+'/INCAR')\n",
    "            \n",
    "            # Criar arquivo POTCAR na pasta de destino\n",
    "            \n",
    "            \n",
    "            # Criar arquivo JOB na pasta de destino\n",
    "            "
   ]
  },
  {
   "cell_type": "markdown",
   "metadata": {},
   "source": [
    "Aqui são fornecidos dois exemplos de funções que podem ser usadas para criar arquivos <code>POTCAR</code> e <code>JOB</code>.\n",
    "\n",
    "<pre><code>\n",
    "# INPUT: recebe o caminho da pasta de pseudos (passar o caminho inteiro para o potencial PBE, GGA, etc)\n",
    "# OUTPUT: cria um arquivo POTCAR e retorna uma flag de sucesso (True) ou falha (False)\n",
    "def create_potcar(compound, pseudos_src_path,  best_choice, dst_path):\n",
    "\n",
    "    # Cria a pasta para colocar os POTCAR caso ela não exista\n",
    "    if not os.path.exists(dst_path):\n",
    "        os.mkdir(dst_path)\n",
    "\n",
    "    comp1 = Composition(compound)\n",
    "    elements=[]\n",
    "    final_file = []\n",
    "    for elem in comp1.formula.split(\" \"):\n",
    "        n = re.sub('\\D', '', elem)\n",
    "        element = elem.replace(n,'')\n",
    "\n",
    "        if element in best_choice.keys():\n",
    "            element_path = pseudos_src_path+'/'+element+best_choice[element]+'/POTCAR'\n",
    "            #print(element_path)\n",
    "            # Se não existir a melhor escolha para aquela pasta de PSEUDOS\n",
    "            if not(os.path.isfile(element_path)):\n",
    "                element_path = pseudos_src_path+'/'+element+'/POTCAR'\n",
    "        else:\n",
    "             element_path = pseudos_src_path+'/'+element+'/POTCAR'\n",
    "\n",
    "        #print(element_path)\n",
    "\n",
    "        # Se o arquivo de POTCAR existir\n",
    "        if os.path.isfile(element_path):\n",
    "            with open(element_path, 'r') as file:\n",
    "                x = file.readlines()\n",
    "            final_file = final_file+x\n",
    "            response=True\n",
    "        else:\n",
    "            print(\"Not found POTCAR of: \"+element)\n",
    "            response=False\n",
    "            break\n",
    "\n",
    "    if response and len(final_file)>0:\n",
    "        complete_dst_path = dst_path+'/POTCAR'\n",
    "        with open(complete_dst_path, 'w') as file:\n",
    "            file.writelines(final_file)\n",
    "\n",
    "    return response\n",
    "\n",
    "\n",
    "# INPUT: caminho do prototipo do job, nome do job, tempo estimado de uso, caminho de destino do arquivo\n",
    "# OUTPUT: criar arquivo job na pasta de destino e retorna uma flag de sucesso (True) ou falha (False)\n",
    "def create_jobfile(protojob_path, job_name, time, job_dst_path):\n",
    "\n",
    "    if os.path.isfile(protojob_path):\n",
    "        # Cria a pasta para colocar o arquivo JOB caso ela não exista\n",
    "        if not os.path.exists(job_dst_path):\n",
    "            os.mkdir(job_dst_path)\n",
    "\n",
    "        # Carrega o arquivo prototipo do job\n",
    "        with open(protojob_path, 'r') as file:\n",
    "            job = file.readlines()\n",
    "\n",
    "        new_job=[]\n",
    "        for line in job:\n",
    "            line = line.replace('jobname',job_name)\n",
    "            line = line.replace('xx:xx:xx',time)\n",
    "            new_job.append(line)\n",
    "\n",
    "        complete_path = job_dst_path+'/'+job_name\n",
    "        #complete_path = job_dst_path+'/JOB'\n",
    "\n",
    "        with open(complete_path,'w') as file:\n",
    "            file.writelines(new_job)\n",
    "\n",
    "        response=True\n",
    "\n",
    "    else:\n",
    "        print('Job proto file not found')\n",
    "        response = False\n",
    "\n",
    "    return response\n",
    "</code></pre>"
   ]
  },
  {
   "cell_type": "markdown",
   "metadata": {},
   "source": [
    "Uma vez que estamos no ambiente Google Colab, podemos compactar nossos arquivos criados para baixá-los e usá-los em outro ambiente computacional:"
   ]
  },
  {
   "cell_type": "code",
   "execution_count": null,
   "metadata": {},
   "outputs": [],
   "source": [
    "#!zip -r '/content/ht_todo.zip' '/content/ht/'"
   ]
  },
  {
   "cell_type": "markdown",
   "metadata": {},
   "source": [
    "# Parte 3 - Submentendo as contas para o solver de MQ\n",
    "\n",
    "A submissão de contas para o solver de Mecânica Quântica é fortemente atrelado ao ambiente computacional que será usado.\n",
    "\n",
    "Por exemplo, se a conta será submetida em um computador pessoal desktop com o software instalado, ou um cluster de computação científica com vários nós de processamento. Cada ambiente pede uma forma de submissão diferente.\n",
    "\n",
    "Abaixo mostramos a ideia básica de submissão usando Python puro, contudo existem outras bibliotecas que podem ser usadas como o ASE e o AiiDA. É aconselhável separar o código abaixo para um script dedicado <code>.py</code>, que pode ser carregado em um cluster.\n",
    "\n",
    "Não iremos executar as funções propriamente ditas (apenas um <code>print</code> será visto) uma vez que o Google Colab não tem um software de Mecânica Quântica instalado para realizar as simulações físicas."
   ]
  },
  {
   "cell_type": "markdown",
   "metadata": {},
   "source": [
    "<pre><code>\n",
    "import os\n",
    "import shutil\n",
    "import time\n",
    "import subprocess\n",
    "import argparse\n",
    "\n",
    "# Retorna o numero de espacos livres na fila do SLURM\n",
    "def check_free_spot(user):\n",
    "\n",
    "    temp = 'check_free_spot.txt'\n",
    "    script = f'''squeue -u {user} > {temp}'''\n",
    "\n",
    "    count_lines = subprocess.Popen(script, stdout=subprocess.PIPE, shell=True)\n",
    "    time.sleep(2)\n",
    "    with open(temp, 'r') as file:\n",
    "        lines = file.readlines()\n",
    "\n",
    "    n_lines = 21-len(lines)\n",
    "\n",
    "    os.remove(temp)\n",
    "\n",
    "    return n_lines\n",
    "\n",
    "# Submete o comando do script\n",
    "def submit_job(job_path):\n",
    "\n",
    "    job = job_path.split('/')[-1]\n",
    "    shell_command='sbatch '+job\n",
    "    job_path=job_path.replace(job,'')\n",
    "\n",
    "    submit = subprocess.Popen(shell_command,\n",
    "                              stdout=subprocess.PIPE,\n",
    "                              shell=True,\n",
    "                              cwd=job_path)\n",
    "    status = submit.communicate()[0].decode('UTF-8')\n",
    "\n",
    "    if status.split()[0] == 'Submitted':\n",
    "        print('Submission successful.')\n",
    "        response=True\n",
    "    else:\n",
    "        print('Submission failed.')\n",
    "        response=False\n",
    "\n",
    "    return(response)\n",
    "\n",
    "\n",
    "def main():\n",
    "    parser = argparse.ArgumentParser()\n",
    "\n",
    "    parser.add_argument('-jb', '--jobs', default = 'jobs_submetidos.txt',\n",
    "                        help = 'Nome do arquivo de jobs submetidos.', type = str)\n",
    "\n",
    "    parser.add_argument('-fjb', '--fjobs', default = 'jobs_afazer',\n",
    "                        help = 'Pasta com arquivos de jobs a serem submetidos.', type = str)\n",
    "\n",
    "    parser.add_argument('-u', '--user', default = 'usuario_da_sd',\n",
    "                        help = 'Usuario do SLURM.', type = str)\n",
    "\n",
    "    args = parser.parse_args()\n",
    "    # Verifica se existe um arquivo com os jobs ja nfeitos\n",
    "    if not(os.path.isfile(args.jobs)):\n",
    "        f= open(args.jobs,\"w+\")\n",
    "        f.close()\n",
    "        nfeitos=0\n",
    "    else:\n",
    "        with open(args.jobs, 'r') as file:\n",
    "            jobs_prontos = file.readlines()\n",
    "        nfeitos=len(jobs_prontos)\n",
    "\n",
    "\n",
    "    sleep_time = 1800\n",
    "    qts_jobs = len(os.listdir(args.fjobs))\n",
    "    todo_jobs = qts_jobs-nfeitos # qtd de jobs que ainda precisam ser feitos\n",
    "    i = 0\n",
    "\n",
    "\n",
    "    while(i<todo_jobs):\n",
    "\n",
    "        with open(args.jobs, 'r') as file:\n",
    "            jobs_prontos = file.readlines()\n",
    "\n",
    "        jobs_prontos=[job.replace('\\n','') for job in jobs_prontos] # So tira o \\n\n",
    "\n",
    "        for folder in os.listdir(args.fjobs):\n",
    "            # O job ainda nao foi submetido\n",
    "            if not(folder in jobs_prontos):\n",
    "                n_lines = check_free_spot(args.user)\n",
    "                # Tem espaco para colocar na fila\n",
    "                if n_lines>0:\n",
    "                    job_folder = args.fjobs+'/'+folder\n",
    "                    job_file = [file for file in os.listdir(job_folder) if 'job' in file][0]\n",
    "                    submit_job(job_folder+'/'+job_file)\n",
    "                    with open(args.jobs, 'a') as file:\n",
    "                        file.write(folder+'\\n')\n",
    "                    i = i+1\n",
    "                else:\n",
    "                    break\n",
    "        time.sleep(sleep_time)\n",
    "\n",
    "if __name__ == \"__main__\":\n",
    "    main()\n",
    "</code></pre>"
   ]
  },
  {
   "cell_type": "markdown",
   "metadata": {},
   "source": [
    "# Parte 4 - Analisando resultados\n",
    "\n",
    "Neste tutorial vamos analisar os resultados prontos após algumas etapas de contas, além da relaxação iônica. Metodologias DFT mais robustas pedem por uma etapa de otimização sem movimento iônico e um novo cálculo com os caminhos de alta simetria para obter o diagrama de bandas eletrônicas. Neste caso, vamos deixar mais simples sem perda de generalidade: tudo aqui mostrado pode ser adaptado para outras metodologias mudando os parâmetros do INCAR e KPOINTS para o caso do Vasp, inclusive repetindo a Etapa 3 conforme o necessário. Outros solvers de mecânica quântica podem ser usados com integração com o Pymatgen (veja https://pymatgen.org/pymatgen.io.html para informações sobre as interfaces com outros softwares de mecânica quântica como Lammps).\n",
    "\n",
    "\n",
    "Os resultados parciais aqui mostrados fazem parte de pesquisa em andamento, cuja última referência é:\n",
    "\n",
    "- H. Ferreira, J. A. Souza, and G. M. Dalpian, **High-throughput Calculations to Discovery New Compounds: the case of Jakobssonite**, Encontro de Outono da Sociedade Brasileira de Física, 2022.\n"
   ]
  },
  {
   "cell_type": "markdown",
   "metadata": {},
   "source": [
    "### Carregando os dados\n",
    "\n",
    "O VASP gera vários arquivos de resultados, que podem ser carregados e examinados. Aqui estamos trabalhando apenas com um recorte desses arquivos <code>CONTCAR</code> (para estrutura cristalina) e <code>EIGENVAL</code> (para bandgap)."
   ]
  },
  {
   "cell_type": "code",
   "execution_count": null,
   "metadata": {},
   "outputs": [],
   "source": [
    "# Copiando as informações do repositório do GITHUB\n",
    "#!wget https://github.com/simcomat/matinfo_tutorials/tree/main/ilum_2022/results_bs.rar\n",
    "\n",
    "# Descompactando as informações no computador do Google Colab\n",
    "#!unrar x results_bs.rar"
   ]
  },
  {
   "cell_type": "code",
   "execution_count": null,
   "metadata": {},
   "outputs": [],
   "source": [
    "calculations_results = 'results_bs'\n",
    "results = []\n",
    "for e1 in earthalk_list:\n",
    "    for e2 in boron_list:\n",
    "        for e3 in halogen_list:\n",
    "            \n",
    "            folder=f'{calculations_results}/{e1}{e2}{e3}5'\n",
    "            \n",
    "            contcar = Structure.from_file(f'{folder}/CONTCAR')\n",
    "            eigenval = vasp.outputs.Eigenval(f'{folder}/EIGENVAL')\n",
    "            \n",
    "            band = eigenval.eigenvalue_band_properties \n",
    "            space_group = SpacegroupAnalyzer(contcar, symprec=0.1, angle_tolerance=1.0)\n",
    "            \n",
    "            proprieties = {\n",
    "                'material':f'{e1}{e2}{e3}5',\n",
    "                'A':e1,\n",
    "                'B':e2,\n",
    "                'C':e3,\n",
    "                'bandgap':band[0],\n",
    "                'cbm':band[1],\n",
    "                'vbm':band[2],\n",
    "                'bandgap_direct':band[3],\n",
    "                'lattice_a':contcar.lattice.a,\n",
    "                'lattice_b':contcar.lattice.b,\n",
    "                'lattice_c':contcar.lattice.c,\n",
    "                'lattice_alpha':contcar.lattice.alpha,\n",
    "                'lattice_beta':contcar.lattice.beta,\n",
    "                'lattice_gamma':contcar.lattice.gamma,\n",
    "                'space_group':space_group.get_space_group_number()\n",
    "            }\n",
    "            results.append(proprieties)\n",
    "            "
   ]
  },
  {
   "cell_type": "code",
   "execution_count": null,
   "metadata": {},
   "outputs": [],
   "source": [
    "results_df = pd.DataFrame(data=results)  # Colocando em uma tabela"
   ]
  },
  {
   "cell_type": "code",
   "execution_count": null,
   "metadata": {},
   "outputs": [],
   "source": [
    "results_df.head()"
   ]
  },
  {
   "cell_type": "markdown",
   "metadata": {},
   "source": [
    "As estatísticas básicas podem ser obtidas usando o comando <code>.describe</code> sobre a variável <code>DataFrame</code> que armazena os dados de resultados carregados:"
   ]
  },
  {
   "cell_type": "code",
   "execution_count": null,
   "metadata": {},
   "outputs": [],
   "source": [
    "results_df.describe()"
   ]
  },
  {
   "cell_type": "markdown",
   "metadata": {},
   "source": [
    "### Gerando gráficos\n",
    "Para gerar gráficos melhores podemos usar as bibliotecas <code>matplotlib</code> e <code>seaborn</code>:"
   ]
  },
  {
   "cell_type": "code",
   "execution_count": null,
   "metadata": {},
   "outputs": [],
   "source": [
    "import matplotlib.pyplot as plt\n",
    "import seaborn as sns"
   ]
  },
  {
   "cell_type": "code",
   "execution_count": null,
   "metadata": {},
   "outputs": [],
   "source": [
    "fig, ax = plt.subplots(1,3, figsize=(16,4), dpi=100)\n",
    "\n",
    "sns.scatterplot(data=results_df, x=\"lattice_a\", y=\"bandgap\", hue='bandgap_direct', ax=ax[0])\n",
    "sns.scatterplot(data=results_df, x=\"lattice_b\", y=\"bandgap\", hue='bandgap_direct', ax=ax[1])\n",
    "sns.scatterplot(data=results_df, x=\"lattice_c\", y=\"bandgap\", hue='bandgap_direct', ax=ax[2])"
   ]
  },
  {
   "cell_type": "code",
   "execution_count": null,
   "metadata": {},
   "outputs": [],
   "source": [
    "fig, ax = plt.subplots(1,3, figsize=(16,4), dpi=100)\n",
    "\n",
    "sns.scatterplot(data=results_df, x=\"lattice_alpha\", y=\"bandgap\", hue='bandgap_direct', ax=ax[0])\n",
    "sns.scatterplot(data=results_df, x=\"lattice_beta\", y=\"bandgap\", hue='bandgap_direct', ax=ax[1])\n",
    "sns.scatterplot(data=results_df, x=\"lattice_gamma\", y=\"bandgap\", hue='bandgap_direct', ax=ax[2])"
   ]
  },
  {
   "cell_type": "markdown",
   "metadata": {},
   "source": [
    "Figuras mais elaboradas podem ser feitas usandos os parâmetros dos métodos das bibliotecas de plot (<code>matplotlib</code> e <code>seaborn</code> - também é possível usar <code>latex</code> caso haja uma instalação local do mesmo e um módulo de compatibilidade instalado).\n",
    "\n",
    "Abaixo mostramos alguns exemplos:"
   ]
  },
  {
   "cell_type": "code",
   "execution_count": null,
   "metadata": {},
   "outputs": [],
   "source": [
    "fig, axes = plt.subplots(1, 3, figsize=(14, 4))\n",
    "#### - --------\n",
    "\n",
    "sns.boxplot(x=\"A\", y=\"bandgap\",\n",
    "            palette=\"hls\",\n",
    "            linewidth=0.7,\n",
    "            ax=axes[0],\n",
    "            data=results_df,\n",
    "            order=['Be','Mg','Ca','Sr', 'Ba'],\n",
    "            #cut=0\n",
    "           )\n",
    "\n",
    "sns.boxplot(x=\"B\", y=\"bandgap\",\n",
    "            palette=\"hls\",\n",
    "            linewidth=0.7,\n",
    "            ax=axes[1],\n",
    "            data=results_df,\n",
    "            order=['B','Al','Ga','In', 'Tl'],\n",
    "            #cut=0\n",
    "           )\n",
    "\n",
    "sns.boxplot(x=\"C\", y=\"bandgap\",\n",
    "            palette=\"hls\",\n",
    "            linewidth=0.7,\n",
    "            ax=axes[2],\n",
    "            data=results_df,\n",
    "            order=['F','Cl','Br','I'],\n",
    "            #cut=0\n",
    "           )\n",
    "\n",
    "\n",
    "### Ajustes\n",
    "axes[0].set_xlabel('Alkaline Earth Metal',  fontsize=14)\n",
    "axes[1].set_xlabel('Boron Group',  fontsize=14)\n",
    "axes[2].set_xlabel('Halogen',  fontsize=14)\n",
    "\n",
    "axes[0].set_ylim([-1,8])\n",
    "axes[1].set_ylim([-1,8])\n",
    "axes[2].set_ylim([-1,8])\n",
    "\n",
    "axes[0].set_ylabel('Bandgap Energy (eV)',  fontsize=13)\n",
    "axes[1].set_ylabel('Bandgap Energy (eV)',  fontsize=13)\n",
    "axes[2].set_ylabel('Bandgap Energy (eV)',  fontsize=13)\n",
    "\n",
    "\n",
    "# We change the fontsize of minor ticks label \n",
    "axes[0].tick_params(axis='both', which='major', labelsize=16)\n",
    "axes[0].tick_params(axis='both', which='minor', labelsize=16)\n",
    "axes[1].tick_params(axis='both', which='major', labelsize=16)\n",
    "axes[1].tick_params(axis='both', which='minor', labelsize=16)\n",
    "axes[2].tick_params(axis='both', which='major', labelsize=16)\n",
    "axes[2].tick_params(axis='both', which='minor', labelsize=16)\n",
    "\n",
    "plt.subplots_adjust(wspace=0.25)\n",
    "#plt.savefig('bandgap_boxplot.png', transparent=True) Para salvar a imagem"
   ]
  },
  {
   "cell_type": "code",
   "execution_count": null,
   "metadata": {},
   "outputs": [],
   "source": [
    "dados2 = results_df.copy()\n",
    "\n",
    "dados2['alkaline_earth'] =  pd.Categorical(dados2['A'], ['Be','Mg','Ca','Sr', 'Ba'])\n",
    "dados2['boron_family'] =  pd.Categorical(dados2['B'], ['B','Al','Ga','In', 'Tl'])\n",
    "dados2['halogen'] =  pd.Categorical(dados2['C'], ['F','Cl','Br','I'])\n",
    "\n",
    "fig, axes = plt.subplots(1, 3, figsize=(12, 4), sharey=True)\n",
    "\n",
    "sns.histplot(x=\"alkaline_earth\",hue=\"bandgap_direct\",\n",
    "            palette=[\"grey\", \"yellow\"],\n",
    "            linewidth=0.7, ax=axes[0],\n",
    "            data=dados2, multiple=\"dodge\", shrink=.8,\n",
    "            legend=None\n",
    "           )\n",
    "\n",
    "sns.histplot(x=\"boron_family\", hue=\"bandgap_direct\",\n",
    "            palette=[\"grey\", \"yellow\"],\n",
    "            linewidth=0.7, ax=axes[1],\n",
    "            data=dados2, multiple=\"dodge\", shrink=.8,\n",
    "            legend=None\n",
    "           )\n",
    "\n",
    "sns.histplot(x=\"halogen\", hue=\"bandgap_direct\",\n",
    "            palette=[\"grey\", \"yellow\"],\n",
    "            linewidth=0.7, ax=axes[2],\n",
    "            data=dados2, multiple=\"dodge\", shrink=.8,\n",
    "            legend=None\n",
    "           )\n",
    "\n",
    "axes[0].grid(axis='y', alpha=0.5)\n",
    "axes[1].grid(axis='y', alpha=0.5)\n",
    "axes[2].grid(axis='y', alpha=0.5)\n",
    "\n",
    "axes[0].set_xlabel('Alkaline Earth',  fontsize=12)\n",
    "axes[1].set_xlabel('Boron Family',  fontsize=12)\n",
    "axes[2].set_xlabel('Halogen',  fontsize=12)\n",
    "\n",
    "axes[0].set_ylabel('Count',  fontsize=13)\n",
    "\n",
    "\n",
    "# We change the fontsize of minor ticks label \n",
    "axes[0].tick_params(axis='both', which='major', labelsize=12)\n",
    "axes[1].tick_params(axis='both', which='minor', labelsize=16)\n",
    "\n",
    "axes[1].tick_params(axis='both', which='major', labelsize=12)\n",
    "axes[2].tick_params(axis='both', which='major', labelsize=12)\n",
    "\n",
    "plt.subplots_adjust(wspace=0.05)\n",
    "plt.legend(labels = ['direct bandgap', 'indirect bandgap'],\n",
    "           bbox_to_anchor =(0.25, 1.20),\n",
    "           frameon=False, labelspacing=1, fontsize=12, ncol=2)"
   ]
  },
  {
   "cell_type": "code",
   "execution_count": null,
   "metadata": {},
   "outputs": [],
   "source": [
    "# Heatmap formation energies\n",
    "escalax = ['Be','Mg','Ca','Sr','Ba']\n",
    "escalay = ['B','Al','Ga','In','Tl']\n",
    "\n",
    "heatmap_fenergy_F   = np.zeros((len(escalay),len(escalax)), dtype=np.float)\n",
    "heatmap_fenergy_Cl  = np.zeros((len(escalay),len(escalax)), dtype=np.float)\n",
    "heatmap_fenergy_Br  = np.zeros((len(escalay),len(escalax)), dtype=np.float)\n",
    "heatmap_fenergy_I   = np.zeros((len(escalay),len(escalax)), dtype=np.float)\n",
    "\n",
    "heatmap_direct_F = np.zeros((len(escalay),len(escalax)), dtype=object)\n",
    "heatmap_direct_Cl = np.zeros((len(escalay),len(escalax)), dtype=object)\n",
    "heatmap_direct_Br = np.zeros((len(escalay),len(escalax)), dtype=object)\n",
    "heatmap_direct_I = np.zeros((len(escalay),len(escalax)), dtype=object)\n",
    "\n",
    "    \n",
    "for i in range(0, len(escalax)):\n",
    "    for j in range(0, len(escalay)):\n",
    "        dfx = results_df[results_df['A']==escalax[i]]\n",
    "        dfy = dfx[dfx['B']==escalay[j]]\n",
    "        \n",
    "        heatmap_fenergy_F[i][j] = dfy[dfy['C']=='F']['bandgap'].values[0]\n",
    "        heatmap_fenergy_Cl[i][j] = dfy[dfy['C']=='Cl']['bandgap'].values[0]\n",
    "        heatmap_fenergy_Br[i][j] = dfy[dfy['C']=='Br']['bandgap'].values[0]\n",
    "        heatmap_fenergy_I[i][j] = dfy[dfy['C']=='I']['bandgap'].values[0]\n",
    "        \n",
    "        #print(str(round(heatmap_fenergy_F[i][j],2))+'*')\n",
    "        \n",
    "        if not(dfy[dfy['C']=='F']['bandgap_direct'].values[0]):\n",
    "            if dfy[dfy['C']=='F']['bandgap'].values[0] == 0:\n",
    "                heatmap_direct_F[i][j] = ''\n",
    "            else:\n",
    "                heatmap_direct_F[i][j] = '*'\n",
    "        else:\n",
    "            heatmap_direct_F[i][j] = ''\n",
    "            \n",
    "        if not(dfy[dfy['C']=='Cl']['bandgap_direct'].values[0]):\n",
    "            if dfy[dfy['C']=='Cl']['bandgap'].values[0] == 0:\n",
    "                heatmap_direct_Cl[i][j] = ''\n",
    "            else:\n",
    "                heatmap_direct_Cl[i][j] = '*'\n",
    "        else:\n",
    "            heatmap_direct_Cl[i][j] = ''\n",
    "            \n",
    "        if not(dfy[dfy['C']=='Br']['bandgap_direct'].values[0]):\n",
    "            if dfy[dfy['C']=='Br']['bandgap'].values[0] == 0:\n",
    "                heatmap_direct_Br[i][j] = ''\n",
    "            else:\n",
    "                heatmap_direct_Br[i][j] = '*'\n",
    "        else:\n",
    "            heatmap_direct_Br[i][j] = ''\n",
    "            \n",
    "        if not(dfy[dfy['C']=='I']['bandgap_direct'].values[0]): \n",
    "            if dfy[dfy['C']=='I']['bandgap'].values[0] == 0:\n",
    "                heatmap_direct_I[i][j] = ''\n",
    "            else:\n",
    "                heatmap_direct_I[i][j] = '*'\n",
    "        else:\n",
    "            heatmap_direct_I[i][j] = ''\n",
    "\n",
    "            \n",
    "nomes = ['Fluorine', 'Chlorine', 'Bromine', 'Iodine']\n",
    "matrizes = [heatmap_fenergy_F, heatmap_fenergy_Cl, heatmap_fenergy_Br, heatmap_fenergy_I]\n",
    "directs = [heatmap_direct_F, heatmap_direct_Cl, heatmap_direct_Br, heatmap_direct_I]\n",
    "\n",
    "maior=[]\n",
    "menor=[]\n",
    "for mat in matrizes:\n",
    "    maior.append(np.amax(mat))\n",
    "    menor.append(np.amin(mat))\n",
    "    \n",
    "vmin = min(menor)\n",
    "vmax = max(maior)\n",
    "\n",
    "fig, ax = plt.subplots(1,4, figsize=(16,4), dpi=100)\n",
    "cbar_ax = fig.add_axes([.91,.2,.03,.6])\n",
    "\n",
    "for i, axis in enumerate(ax):\n",
    "    \n",
    "    labels = (np.asarray([\"{1:.2f}{0}\".format(string, value)\n",
    "                      for string, value in zip(directs[i].flatten(),\n",
    "                                               matrizes[i].flatten())])\n",
    "         ).reshape(len(escalax), len(escalay))\n",
    "    \n",
    "    sns.heatmap(matrizes[i], annot=labels, fmt=\"\", \n",
    "                linewidths=0.0, ax=axis,\n",
    "                xticklabels=escalay, yticklabels=escalax,\n",
    "                cbar=True,\n",
    "                vmin=vmin,\n",
    "                vmax=vmax,\n",
    "                cmap=\"YlGnBu\", #BuPu\n",
    "                robust=False,\n",
    "                cbar_ax = cbar_ax,\n",
    "                cbar_kws={'label': 'Bandgap energy (eV)'})\n",
    "    axis.invert_yaxis()\n",
    "    if i==0:\n",
    "        axis.set_ylabel('Alkaline Earth Metal', fontsize=14)\n",
    "    axis.set_xlabel('Boron Group', fontsize=14)\n",
    "    axis.set_title(nomes[i], fontsize=14)\n",
    "\n",
    "plt.rcParams['font.size'] = 12\n",
    "#plt.savefig('bandgap1.png')"
   ]
  }
 ],
 "metadata": {
  "kernelspec": {
   "display_name": "Python 3",
   "language": "python",
   "name": "python3"
  },
  "language_info": {
   "codemirror_mode": {
    "name": "ipython",
    "version": 3
   },
   "file_extension": ".py",
   "mimetype": "text/x-python",
   "name": "python",
   "nbconvert_exporter": "python",
   "pygments_lexer": "ipython3",
   "version": "3.9.5"
  }
 },
 "nbformat": 4,
 "nbformat_minor": 2
}
