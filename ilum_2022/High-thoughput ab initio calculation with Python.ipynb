{
 "cells": [
  {
   "cell_type": "markdown",
   "metadata": {},
   "source": [
    "#  High-thoughput ab initio calculation with Python\n",
    "\n",
    "Tutorial para o evento **Machine Learning School for Materials**, Ilum, CNPEM, 2022.\n",
    "\n",
    "Henrique Ferreira dos Santos (hfsantos@ufabc.edu.br)\n",
    "\n",
    "---------------------------------"
   ]
  },
  {
   "cell_type": "markdown",
   "metadata": {},
   "source": [
    "# Parte 1 - Screening \n",
    "\n",
    "Antes de iniciar as contas **High Throughput** vamos obter informações de bases de dados de contas DFT.\n",
    "\n",
    "O **screening** é o procedimento de busca e seleção de materiais nessas bases de dados, de maneira automatizada e baseado em critérios estebelecidos pelo pesquisador.\n",
    "\n",
    "Como exemplo, vamos realizar um estudo de semicontudores de **Ultrawide Bandgap** (UWBG semiconductors). Inicialmente vamos buscar nas bases de dados compostos químicos que já foram simulados e apresentam gap ultra largo. Em seguida, vamos filtrá-los com uma série de critérios que iremos estabelecer. Por fim, selecionaremos um composto da lista final para realizar um estudo mais detalhado que será feito na Parte 2 desse tutorial.\n"
   ]
  },
  {
   "cell_type": "markdown",
   "metadata": {},
   "source": [
    "### Bibliotecas utilizadas"
   ]
  },
  {
   "cell_type": "code",
   "execution_count": null,
   "metadata": {},
   "outputs": [],
   "source": [
    "#!pip install pymatgen  # Caso não tenha a biblioteca pymatgen, você pode instalá-la usando este comando"
   ]
  },
  {
   "cell_type": "code",
   "execution_count": null,
   "metadata": {},
   "outputs": [],
   "source": [
    "# Pymatgen is a open-source librarie for materials analysis\n",
    "from pymatgen.ext.matproj  import MPRester                         # API requester for Materials project\n",
    "from pymatgen.core.periodic_table import Element                   # Class to represent Element in pymatgen\n",
    "from pymatgen.io import vasp                                       # Interface with VASP\n",
    "\n",
    "import pandas as pd   # Working with tables\n",
    "\n",
    "import os\n",
    "import time"
   ]
  },
  {
   "cell_type": "markdown",
   "metadata": {},
   "source": [
    "## Critérios de busca\n",
    "\n",
    "- [ ] Materiais ternários\n",
    "- [ ] Elementos não radioativos\n",
    "- [ ] Bandgap entre 4 e 12 eV\n",
    "- [ ] Estrutura de bandas foi reportada\n",
    "- [ ] Materiais termodinamicamente estáveis (estão no convex hull)\n",
    "- [ ] Tem pelo menos uma rota de síntese conhecida\n",
    "- [ ] Não contém oxigênio\n",
    "- [ ] Têm gap direto"
   ]
  },
  {
   "cell_type": "markdown",
   "metadata": {},
   "source": [
    "### Elementos não radioativos"
   ]
  },
  {
   "cell_type": "code",
   "execution_count": null,
   "metadata": {},
   "outputs": [],
   "source": [
    "# Gerando a lista de elementos não radioativos\n",
    "\n",
    "def desired_element(elem):\n",
    "    omit = ['Po', 'At', 'Rn', 'Fr', 'Ra']\n",
    "    return not elem.is_noble_gas and not elem.is_actinoid and not elem.symbol in omit\n",
    "\n",
    "element_universe = [e for e in Element if desired_element(e)]\n",
    "omitted_elements = [e for e in Element if e not in element_universe]\n",
    "elements = [e.symbol for e in element_universe] \n",
    "\n",
    "print(\"Número de elementos incluídos =\", len(element_universe))\n",
    "print(\"Elementos excluídos: \", \" \".join(sorted([e.symbol for e in omitted_elements])))"
   ]
  },
  {
   "cell_type": "markdown",
   "metadata": {},
   "source": [
    "### Base de busca - Materials Project\n",
    "O Materials Project é um base de dados pública. \n",
    "\n",
    "Os critérios de busca do Materials Project são limitados a uma lista de propriedades que pode ser consultada aqui https://workshop.materialsproject.org/lessons/04_materials_api/MAPI%20Lesson%20%28filled%29/.\n",
    "\n",
    "O Materials Project é feito usando tecnologia MongoDB para o banco de dados. Dessa forma, a query pode ser aperfeiçoada usando a sintaxe desse banco de dados. A sintaxe pode ser consultada em https://www.mongodb.com/docs/manual/reference/operator/query/\n",
    "\n",
    "As propriedades que são possiveis de serem capturadas estão em https://github.com/materialsproject/mapidoc/materials. A princípio, todas as pastas são informações que podem ser acessadas. Entretanto, nem todas as informações podem ser acessadas em uma query geral (precisam ser acessadas via query específica para um material) e algumas delas podem não estar presentes (faltam para aquele material)."
   ]
  },
  {
   "cell_type": "code",
   "execution_count": null,
   "metadata": {},
   "outputs": [],
   "source": [
    "# Critérios de busca na base de dados\n",
    "criteria = {'nelements':{'$in': [3]},            # Only ternaries\n",
    "            'band_gap':{'$gte': 4, '$lte': 12},  # Bandgap range (gte >= and lte <=)\n",
    "            'elements':{'$in':elements},         # list of allowed elements\n",
    "            '$where':'this.icsd_ids.length>0',   # There is an entry for this material in ICSD\n",
    "            'has_bandstructure':{'$eq': True}    #'has': {'$all': ['bandstructure']} # Bandstrucuture was calculate\n",
    "           } \n",
    "\n",
    "# Propriedades buscadas\n",
    "properties =['material_id', 'icsd_ids', 'pretty_formula','elements', 'band_gap','formation_energy_per_atom',\n",
    "             'e_above_hull', 'spacegroup']\n",
    "\n",
    "# Chave de acesso\n",
    "apikey = ''"
   ]
  },
  {
   "cell_type": "code",
   "execution_count": null,
   "metadata": {},
   "outputs": [],
   "source": [
    "# Chamada API rest para requisitar os dados ao servidor do MP\n",
    "with MPRester(apikey) as mpr:\n",
    "    results = mpr.query(criteria, properties)"
   ]
  },
  {
   "cell_type": "markdown",
   "metadata": {},
   "source": [
    "Armazenamos os resultados da requisição (1399 materiais) na variável <code>result</code>.\n",
    "\n",
    "Para facilitar o trabalho com essa variável, vamos transformá-la em uma tabela via pandas do tipo <code>DataFrame</code>:"
   ]
  },
  {
   "cell_type": "code",
   "execution_count": null,
   "metadata": {},
   "outputs": [],
   "source": [
    "mat_list0 = pd.DataFrame(data = results)"
   ]
  },
  {
   "cell_type": "code",
   "execution_count": null,
   "metadata": {},
   "outputs": [],
   "source": [
    "type(mat_list0)"
   ]
  },
  {
   "cell_type": "code",
   "execution_count": null,
   "metadata": {},
   "outputs": [],
   "source": [
    "mat_list0.head(10) # Olhando as 10 primeiras linhas da tabela de materiais"
   ]
  },
  {
   "cell_type": "markdown",
   "metadata": {},
   "source": [
    "A coluna <code>spacegroup</code> é do tipo dicionário (dict). Vamos transformar cada chave do dicionário em uma nova coluna:"
   ]
  },
  {
   "cell_type": "code",
   "execution_count": null,
   "metadata": {},
   "outputs": [],
   "source": [
    "# Rearranja as informações dos grupos espaciais\n",
    "mat_list0[['symprec',\n",
    "          'source',\n",
    "          'symbol',\n",
    "          'number',\n",
    "          'point_group',\n",
    "          'crystal_system',\n",
    "          'hall']] = mat_list0.spacegroup.apply(pd.Series)\n",
    "mat_list0 = mat_list0.drop('spacegroup', axis=1)"
   ]
  },
  {
   "cell_type": "code",
   "execution_count": null,
   "metadata": {},
   "outputs": [],
   "source": [
    "mat_list0.head()"
   ]
  },
  {
   "cell_type": "markdown",
   "metadata": {},
   "source": [
    "### Estatísticas Básicas\n",
    "Até agora:\n",
    "\n",
    "- [x] Materiais ternários\n",
    "- [x] Elementos não radioativos\n",
    "- [x] Bandgap entre 4 e 12 eV\n",
    "- [x] Estrutura de bandas foi reportada\n",
    "- [ ] Materiais termodinamicamente estáveis (estão no convex hull)\n",
    "- [ ] Tem pelo menos uma rota de síntese conhecida\n",
    "- [ ] Não contém oxigênio\n",
    "- [ ] Têm gap direto\n",
    "\n",
    "Vamos visualizar algumas informações estatísticas básicas dos compostos que temos até o momento:"
   ]
  },
  {
   "cell_type": "code",
   "execution_count": null,
   "metadata": {},
   "outputs": [],
   "source": [
    "mat_list0.describe() # Gera informações estatísticas das colunas numéricas"
   ]
  },
  {
   "cell_type": "code",
   "execution_count": null,
   "metadata": {},
   "outputs": [],
   "source": [
    "mat_list0.hist('band_gap')  # Plota o histograma do bandgap"
   ]
  },
  {
   "cell_type": "code",
   "execution_count": null,
   "metadata": {},
   "outputs": [],
   "source": [
    "mat_list0.crystal_system.value_counts().plot(kind='bar')  # Distribuição dos sistemas cristalinos"
   ]
  },
  {
   "cell_type": "markdown",
   "metadata": {},
   "source": [
    "### Materiais Estáveis\n",
    "Agora vamos filtrar apenas os estáveis:"
   ]
  },
  {
   "cell_type": "code",
   "execution_count": null,
   "metadata": {},
   "outputs": [],
   "source": [
    "mat_list1 = mat_list0[mat_list0['e_above_hull']==0]"
   ]
  },
  {
   "cell_type": "code",
   "execution_count": null,
   "metadata": {},
   "outputs": [],
   "source": [
    "mat_list1.describe()"
   ]
  },
  {
   "cell_type": "markdown",
   "metadata": {},
   "source": [
    "### Rotas de Síntese\n",
    "\n",
    "Vamos verificar se existem rotas de sintese conhecidas para esses materiais. Para fazer isso precisaremos de dados adicionais que não existem no Materials Project. Aqui vamos utilizar a base de dados disponibilizada em https://github.com/CederGroupHub/text-mined-synthesis_public. Essa base de dados foi levantada usando-se ferramentas de Processamento de Linguagem Natural em cima de diversos artigos científicos.\n",
    "\n",
    "No link, existem três arquivos <code>.json</code> comprimidos no formato <code>.xz</code>. Vamos escolher o  <code>solid-state_dataset_2019-12-03.json.xz</code>. Devemos baixá-lo e descompactá-lo. Em seguida, caso o ambiente usado seja o Google Colab, você deverá subir o arquivo na pasta lateral esquerda, ou usar o seguinte comando para baixar o arquivo e descompactá-lo automaticamente (atenção, este comando funciona melhor em ambientes Linux, como o Google Colab - se você estiver rodando na sua máquina local com Windows, considere abrir o arquivo diretamente pulado a próxima célula):"
   ]
  },
  {
   "cell_type": "code",
   "execution_count": null,
   "metadata": {},
   "outputs": [],
   "source": [
    "#!wget https://github.com/CederGroupHub/text-mined-synthesis_public/raw/master/solid-state_dataset_2019-12-03.json.xz && xz -d solid-state_dataset_2019-12-03.json.xz"
   ]
  },
  {
   "cell_type": "code",
   "execution_count": null,
   "metadata": {},
   "outputs": [],
   "source": [
    "#synth_data = pd.read_json('solid-state_dataset_2019-12-03.json')"
   ]
  },
  {
   "cell_type": "code",
   "execution_count": null,
   "metadata": {},
   "outputs": [],
   "source": [
    "synth_data.head()"
   ]
  },
  {
   "cell_type": "code",
   "execution_count": null,
   "metadata": {},
   "outputs": [],
   "source": [
    "len(synth_data) # Quantidade de entradas"
   ]
  },
  {
   "cell_type": "code",
   "execution_count": null,
   "metadata": {},
   "outputs": [],
   "source": [
    "synth_data['reactions'][0].keys()"
   ]
  },
  {
   "cell_type": "code",
   "execution_count": null,
   "metadata": {},
   "outputs": [],
   "source": [
    "# Rearranja as informações \n",
    "synth_data[list(synth_data['reactions'][0].keys())] = synth_data.reactions.apply(pd.Series)\n",
    "synth_data = synth_data.drop('reactions', axis=1)"
   ]
  },
  {
   "cell_type": "code",
   "execution_count": null,
   "metadata": {},
   "outputs": [],
   "source": [
    "synth_data.head()"
   ]
  },
  {
   "cell_type": "markdown",
   "metadata": {},
   "source": [
    "Como queremos saber se o composto alvo da síntese está na nossa lista de compostos UWBG iremos arrumar a coluna <code>target</code>: "
   ]
  },
  {
   "cell_type": "code",
   "execution_count": null,
   "metadata": {},
   "outputs": [],
   "source": [
    "synth_data['target'][0].keys()"
   ]
  },
  {
   "cell_type": "code",
   "execution_count": null,
   "metadata": {},
   "outputs": [],
   "source": [
    "# Rearranja as informações \n",
    "synth_data[list(synth_data['target'][0].keys())] = synth_data.target.apply(pd.Series)\n",
    "synth_data = synth_data.drop('target', axis=1)"
   ]
  },
  {
   "cell_type": "code",
   "execution_count": null,
   "metadata": {},
   "outputs": [],
   "source": [
    "synth_data.head()"
   ]
  },
  {
   "cell_type": "markdown",
   "metadata": {},
   "source": [
    "Agora vamos usar a coluna <code>mp_id</code> que contém um identificador de entrada no Materials Project para comparar os dois:"
   ]
  },
  {
   "cell_type": "code",
   "execution_count": null,
   "metadata": {},
   "outputs": [],
   "source": [
    "mat_list2 = mat_list1.merge(synth_data, left_on='material_id', right_on='mp_id')"
   ]
  },
  {
   "cell_type": "code",
   "execution_count": null,
   "metadata": {},
   "outputs": [],
   "source": [
    "mat_list2.head()"
   ]
  },
  {
   "cell_type": "markdown",
   "metadata": {},
   "source": [
    "Neste ponto podemos ter mais de uma linha para o mesmo composto, caso haja mais de um rota de síntese na base de dados usada. Podemos querer uma versão reduzida somente com compostos únicos:"
   ]
  },
  {
   "cell_type": "code",
   "execution_count": null,
   "metadata": {},
   "outputs": [],
   "source": [
    "len(mat_list2) # Total de linhas (podendo conter duplicidades devido a mais de uma rota de síntese)"
   ]
  },
  {
   "cell_type": "code",
   "execution_count": null,
   "metadata": {},
   "outputs": [],
   "source": [
    "mat_list3 = mat_list2.drop_duplicates(subset=['material_id'])"
   ]
  },
  {
   "cell_type": "code",
   "execution_count": null,
   "metadata": {},
   "outputs": [],
   "source": [
    "len(mat_list3) # Lista reduzida com compostos únicos"
   ]
  },
  {
   "cell_type": "markdown",
   "metadata": {},
   "source": [
    "Agora:\n",
    "\n",
    "- [x] Materiais ternários\n",
    "- [x] Elementos não radioativos\n",
    "- [x] Bandgap entre 4 e 12 eV\n",
    "- [x] Estrutura de bandas foi reportada\n",
    "- [X] Materiais termodinamicamente estáveis (estão no convex hull)\n",
    "- [X] Têm pelo menos uma rota de síntese conhecida\n",
    "- [ ] Não contém oxigênio\n",
    "- [ ] Têm gap direto"
   ]
  },
  {
   "cell_type": "code",
   "execution_count": null,
   "metadata": {},
   "outputs": [],
   "source": [
    "mat_list3['pretty_formula'].values"
   ]
  },
  {
   "cell_type": "markdown",
   "metadata": {},
   "source": [
    "### Removendo Óxidos\n",
    "Para filtrar a presença de oxigênio, vamos criar uma função que retorna <code>True</code> ou <code>False</code> e aplicá-la sobre a coluna <code>elements</code>:"
   ]
  },
  {
   "cell_type": "code",
   "execution_count": null,
   "metadata": {},
   "outputs": [],
   "source": [
    "def oxygen(elements):\n",
    "    if 'O' in elements: return True\n",
    "    else: return False"
   ]
  },
  {
   "cell_type": "code",
   "execution_count": null,
   "metadata": {},
   "outputs": [],
   "source": [
    "mat_list4 = mat_list3.copy()\n",
    "mat_list4['oxygen'] = mat_list3['elements'].apply(oxygen)"
   ]
  },
  {
   "cell_type": "code",
   "execution_count": null,
   "metadata": {},
   "outputs": [],
   "source": [
    "mat_list4.groupby('oxygen').count()"
   ]
  },
  {
   "cell_type": "code",
   "execution_count": null,
   "metadata": {},
   "outputs": [],
   "source": [
    "mat_list5 = mat_list4[mat_list4['oxygen']==False]"
   ]
  },
  {
   "cell_type": "code",
   "execution_count": null,
   "metadata": {},
   "outputs": [],
   "source": [
    "mat_list5['pretty_formula'].values"
   ]
  },
  {
   "cell_type": "markdown",
   "metadata": {},
   "source": [
    "### Selecionando apenas gap direto\n",
    "Para verificar se o bandgap é direto ou não, precisamos buscar informações da estrutura de bandas de cada composto no Materials Project. Isso pode demorar um pouco, já que cada requisição é feita individualmente para cada material."
   ]
  },
  {
   "cell_type": "code",
   "execution_count": null,
   "metadata": {},
   "outputs": [],
   "source": [
    "results_bs =[]\n",
    "inicio = time.time()\n",
    "for mp_id in mat_list5['material_id']:\n",
    "    print(mp_id)\n",
    "    #time.sleep(0.5)\n",
    "    with MPRester(apikey) as mpr:\n",
    "        bs = mpr.get_bandstructure_by_material_id(mp_id)\n",
    "    \n",
    "    x = bs.get_band_gap()\n",
    "    x['material_id'] = mp_id\n",
    "    results_bs.append(x)\n",
    "    \n",
    "fim = time.time()\n",
    "tempo = (fim - inicio)\n",
    "minutos = str(tempo/60)\n",
    "print('@ Execution Time: '+minutos+' min')"
   ]
  },
  {
   "cell_type": "code",
   "execution_count": null,
   "metadata": {},
   "outputs": [],
   "source": [
    "bands = pd.DataFrame(data=results_bs)"
   ]
  },
  {
   "cell_type": "code",
   "execution_count": null,
   "metadata": {},
   "outputs": [],
   "source": [
    "bands.head()"
   ]
  },
  {
   "cell_type": "code",
   "execution_count": null,
   "metadata": {},
   "outputs": [],
   "source": [
    "mat_list6 = mat_list5.merge(bands, left_on='material_id', right_on='material_id')"
   ]
  },
  {
   "cell_type": "code",
   "execution_count": null,
   "metadata": {},
   "outputs": [],
   "source": [
    "mat_list6 = mat_list6[mat_list6['direct']==True]"
   ]
  },
  {
   "cell_type": "markdown",
   "metadata": {},
   "source": [
    "Essa é nossa lista final com 5 compostos:"
   ]
  },
  {
   "cell_type": "code",
   "execution_count": null,
   "metadata": {},
   "outputs": [],
   "source": [
    "mat_list6['pretty_formula'].values"
   ]
  },
  {
   "cell_type": "markdown",
   "metadata": {},
   "source": [
    "Vamos escolher 1 composto para estudar com maior profundidade: **CaAlF5**"
   ]
  },
  {
   "cell_type": "code",
   "execution_count": null,
   "metadata": {},
   "outputs": [],
   "source": [
    "mat_list6[mat_list6['pretty_formula']=='CaAlF5']"
   ]
  },
  {
   "cell_type": "markdown",
   "metadata": {},
   "source": [
    "### Estrutura do composto escolhido"
   ]
  },
  {
   "cell_type": "code",
   "execution_count": null,
   "metadata": {},
   "outputs": [],
   "source": [
    "with MPRester(apikey) as mpr:\n",
    "    structure = mpr.get_structure_by_material_id('mp-8836')"
   ]
  },
  {
   "cell_type": "code",
   "execution_count": null,
   "metadata": {},
   "outputs": [],
   "source": [
    "structure"
   ]
  },
  {
   "cell_type": "markdown",
   "metadata": {},
   "source": [
    "Vamos salvar essa estrutura em um arquivo <code>POSCAR</code> dentro de uma pasta com o nome do composto <code>CaAlF5</code>, que está dentro de uma pasta geral <code>ht</code>. "
   ]
  },
  {
   "cell_type": "code",
   "execution_count": null,
   "metadata": {},
   "outputs": [],
   "source": [
    "poscar = vasp.inputs.Poscar(structure)"
   ]
  },
  {
   "cell_type": "code",
   "execution_count": null,
   "metadata": {},
   "outputs": [],
   "source": [
    "master_folder = 'ht'\n",
    "material_folder = 'proto_CaAlF5'\n",
    "filename = 'POSCAR'"
   ]
  },
  {
   "cell_type": "code",
   "execution_count": null,
   "metadata": {},
   "outputs": [],
   "source": [
    "os.mkdir(master_folder)\n",
    "os.mkdir(master_folder+'/'+material_folder)"
   ]
  },
  {
   "cell_type": "code",
   "execution_count": null,
   "metadata": {},
   "outputs": [],
   "source": [
    "poscar.write_file(master_folder+'/'+material_folder+'/'+filename)"
   ]
  },
  {
   "cell_type": "markdown",
   "metadata": {},
   "source": [
    "Uma pergunta interessante é: se trocarmos cada elemento desse composto por outro elemento com alta semelhança química, ainda obtemos um UWBG estável e sintetizável? \n",
    "\n",
    "Para responder vamos realizar a Parte 2 desse tutorial, onde definimos novas simulações DFT.\n",
    "\n",
    "---------------------------"
   ]
  },
  {
   "cell_type": "markdown",
   "metadata": {},
   "source": [
    "# Parte 2 - Configurando as entradas para contas HT \n",
    "\n",
    "Nesta etapa, já temos a pergunta e o objeto de estudo oriundas da Parte 1: CaAlF5 (mp-8836)\n",
    "\n",
    "Vamos estabelecer que a similaridade química será definida por elementos do mesmo grupo químico. Vamos desconsiderar o Rádio (Ra) e o Ástato (At).\n",
    "\n",
    "Como *solver* de Mecânica Quântica, vamos utilizar o software VASP.\n",
    "\n",
    "Estamos assumindo que as contas serão realizadas em um cluster com gerenciador de fila (como o SLURM) e que não iremos utilizar nenhuma biblioteca adicional para auxiliar no gerenciamento das contas, exceto aquelas de pré-processamento (Parte 2) e pós-processamento (Parte 3).\n",
    "\n",
    "Em caso de uso de clusters sem fila, sugere-se uso da biblioteca ASE (https://wiki.fysik.dtu.dk/ase/) para submissão de cálculos direto pelo código Python. Para usuários mais avançados que requeiram altas vazões de contas, inclusive em clusters com gereciamento de fila, sugere-se o uso do AiiDA (https://www.aiida.net/)."
   ]
  },
  {
   "cell_type": "code",
   "execution_count": null,
   "metadata": {},
   "outputs": [],
   "source": [
    "from pymatgen.io import vasp                                       # Interface with VASP\n",
    "from pymatgen.core.structure import Structure                      # Class to represent Structures in pymatgen\n",
    "from pymatgen.core.composition import Composition                  # Class to represent Composition in pymatgen\n",
    "from pymatgen.core.periodic_table import Element                   # Class to represent Element in pymatgen\n",
    "from pymatgen.symmetry.analyzer import SpacegroupAnalyzer          # Methods to analyze space groups of materials\n",
    "\n",
    "import shutil\n",
    "import os"
   ]
  },
  {
   "cell_type": "markdown",
   "metadata": {},
   "source": [
    "### Criando novos materiais e configurando arquivos VASP\n",
    "\n",
    "Nessa primeira etapa estamos interessados em fazer a atualização das posições ionicas para encontrar as estruturas com menor enegia (convergidas).\n",
    "\n",
    "Vamos utilizar a estrutura original do CaAlF5 como protótipo e manter a simetria, trocando apenas os átomos dos elementos da mesma coluna da tabela periódica.\n",
    "\n",
    "Primeiro vamos carregar nosso protótipo:"
   ]
  },
  {
   "cell_type": "code",
   "execution_count": null,
   "metadata": {},
   "outputs": [],
   "source": [
    "input_folder = 'ht/proto_CaAlF5'  # Pasta onde está a estrutura inicial (POSCAR) usada como protótipo\n",
    "proto_poscar = Structure.from_file(input_folder+\"/POSCAR\")  # Estrutura protótipo"
   ]
  },
  {
   "cell_type": "code",
   "execution_count": null,
   "metadata": {},
   "outputs": [],
   "source": [
    "proto_space_group = SpacegroupAnalyzer(proto_poscar, symprec=0.1, angle_tolerance=1.0)\n",
    "proto_space_group.get_space_group_number()"
   ]
  },
  {
   "cell_type": "markdown",
   "metadata": {},
   "source": [
    "Vamos usar as seguintes configurações de arquivos VASP:"
   ]
  },
  {
   "cell_type": "code",
   "execution_count": null,
   "metadata": {},
   "outputs": [],
   "source": [
    "incar_rx = {\n",
    "\"ALGO\": \"Normal\",\n",
    "\"EDIFF\": \"0.000001\",\n",
    "\"ENCUT\": 520,\n",
    "\"IBRION\": 2,\n",
    "\"ISIF\": 3,\n",
    "\"ISMEAR\": 0,\n",
    "\"ISPIN\": 1,\n",
    "\"LASPH\": True,\n",
    "\"LORBIT\": 11,\n",
    "\"LREAL\": \"Auto\",\n",
    "\"LWAVE\": False,\n",
    "\"LCHARG\":False,\n",
    "\"NELM\": 100,\n",
    "\"NSW\": 900,\n",
    "\"SIGMA\": 0.05,\n",
    "\"NPAR\": 6\n",
    "}\n",
    "\n",
    "auto_kpoints = 25"
   ]
  },
  {
   "cell_type": "markdown",
   "metadata": {},
   "source": [
    "Agora iremos criar a estrutura de pasta com todos os arquivos necessários para submeter as contas e todos os novos compostos:"
   ]
  },
  {
   "cell_type": "code",
   "execution_count": null,
   "metadata": {},
   "outputs": [],
   "source": [
    "# Lista de elementos que serão usados para fazer as substituições químicas\n",
    "earthalk_list = ['Be','Mg','Ca','Sr','Ba']\n",
    "boron_list = ['B','Al','Ga','In','Tl']\n",
    "halogen_list = ['F','Cl','Br','I']"
   ]
  },
  {
   "cell_type": "code",
   "execution_count": null,
   "metadata": {},
   "outputs": [],
   "source": [
    "calculations_folder = 'ht/rx'\n",
    "os.mkdir(calculations_folder)\n",
    "\n",
    "for e1 in earthalk_list:\n",
    "    for e2 in boron_list:\n",
    "        for e3 in halogen_list:\n",
    "            \n",
    "            # Nova pasta para o novo material em disco\n",
    "            output_folder=calculations_folder+'/'+e1+e2+e3+'5'\n",
    "            os.mkdir(output_folder)\n",
    "            \n",
    "            temp_structure = proto_poscar.copy()          # Cópia da estrutura original em memória\n",
    "\n",
    "            if not(e1=='Ca' and e2=='Al' and e3=='F'):\n",
    "                for i, element in enumerate(proto_poscar):    # Para dada atomo na estrutura\n",
    "                    element_str = str(element.species)        # Pega o atomo no sítio\n",
    "                    element_str = element_str.replace('1','') # Remove o número de estequiometria (no caso o número é 1)\n",
    "\n",
    "                    # Troca apenas elementos da mesma familia\n",
    "                    if element_str in earthalk_list:\n",
    "                        temp_structure.replace(i,e1)\n",
    "                    elif element_str in boron_list:\n",
    "                        temp_structure.replace(i,e2)\n",
    "                    elif element_str in halogen_list:\n",
    "                        temp_structure.replace(i,e3)\n",
    "\n",
    "            # Aviso de que a eventualmente uma estrutura não manteve a simetria pretendida\n",
    "            space_group = SpacegroupAnalyzer(temp_structure, symprec=0.1, angle_tolerance=1.0)\n",
    "            if not(space_group.get_space_group_number()==proto_space_group.get_space_group_number()):\n",
    "                print('Warning: Estrutura '+e1+e2+e3+'5 com grupo espacial diferente do protótipo!') \n",
    "\n",
    "            # Criar o novo POSCAR na pasta de destino\n",
    "            new_poscar = vasp.inputs.Poscar(temp_structure)\n",
    "            new_poscar.write_file(output_folder+'/POSCAR')\n",
    "            \n",
    "            # Criar o arquivo KPOINTS na pasta de destino\n",
    "            kpoints = vasp.Kpoints().automatic(auto_kpoints)       # Método automatico com auto_kpoints (25) pontos\n",
    "            kpoints.write_file(output_folder+'/KPOINTS')\n",
    "            \n",
    "            # Criar arquivo INCAR na pasta de destino\n",
    "            incar = vasp.Incar(incar_rx)\n",
    "            incar.write_file(output_folder+'/INCAR')\n",
    "            \n",
    "            # Criar arquivo POTCAR na pasta de destino\n",
    "            \n",
    "            \n",
    "            # Criar arquivo JOB na pasta de destino\n",
    "            "
   ]
  },
  {
   "cell_type": "markdown",
   "metadata": {},
   "source": [
    "# Parte 3 - Submentendo as contas para o solver de MQ"
   ]
  },
  {
   "cell_type": "code",
   "execution_count": null,
   "metadata": {},
   "outputs": [],
   "source": []
  },
  {
   "cell_type": "markdown",
   "metadata": {},
   "source": [
    "# Parte 4 - Analisando resultados"
   ]
  },
  {
   "cell_type": "code",
   "execution_count": null,
   "metadata": {},
   "outputs": [],
   "source": []
  }
 ],
 "metadata": {
  "kernelspec": {
   "display_name": "Python 3",
   "language": "python",
   "name": "python3"
  },
  "language_info": {
   "codemirror_mode": {
    "name": "ipython",
    "version": 3
   },
   "file_extension": ".py",
   "mimetype": "text/x-python",
   "name": "python",
   "nbconvert_exporter": "python",
   "pygments_lexer": "ipython3",
   "version": "3.9.5"
  }
 },
 "nbformat": 4,
 "nbformat_minor": 2
}
