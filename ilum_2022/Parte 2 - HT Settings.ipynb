{
 "cells": [
  {
   "cell_type": "markdown",
   "id": "527a1833",
   "metadata": {},
   "source": [
    "# Parte 2 - HT Settings \n",
    "\n",
    "Nesta etapa, já temos a pergunta e o objeto de estudo oriundas da Parte 1: CaAlF5 (mp-8836)\n",
    "\n",
    "Vamos estabelecer que a similaridade química será definida por elementos do mesmo grupo químico. Vamos desconsiderar o Rádio (Ra) e o Ástato (At).\n",
    "\n",
    "Como *solver* de Mecânica Quântica, vamos utilizar o software VASP.\n",
    "\n",
    "Estamos assumindo que as contas serão realizadas em um cluster com gerenciador de fila (como o SLURM) e que não iremos utilizar nenhuma biblioteca adicional para auxiliar no gerenciamento das contas, exceto aquelas de pré-processamento (Parte 2) e pós-processamento (Parte 3).\n",
    "\n",
    "Em caso de uso de clusters sem fila, sugere-se uso da biblioteca ASE (https://wiki.fysik.dtu.dk/ase/) para submissão de cálculos direto pelo código Python. Para usuários mais avançados que requeiram altas vazões de contas, inclusive em clusters com gereciamento de fila, sugere-se o uso do AiiDA (https://www.aiida.net/).\n",
    "\n",
    "-------------------"
   ]
  },
  {
   "cell_type": "markdown",
   "id": "3ff89115",
   "metadata": {},
   "source": [
    "### Bibliotecas"
   ]
  },
  {
   "cell_type": "code",
   "execution_count": null,
   "id": "dee7a027",
   "metadata": {},
   "outputs": [],
   "source": [
    "from pymatgen.io import vasp                                       # Interface with VASP\n",
    "from pymatgen.core.structure import Structure                      # Class to represent Structures in pymatgen\n",
    "from pymatgen.core.composition import Composition                  # Class to represent Composition in pymatgen\n",
    "from pymatgen.core.periodic_table import Element                   # Class to represent Element in pymatgen\n",
    "from pymatgen.symmetry.analyzer import SpacegroupAnalyzer          # Methods to analyze space groups of materials\n",
    "\n",
    "import shutil\n",
    "import os"
   ]
  },
  {
   "cell_type": "markdown",
   "id": "6c4152e0",
   "metadata": {},
   "source": [
    "### Criando novos materiais e configurando arquivos VASP\n",
    "\n",
    "Nessa primeira etapa estamos interessados em fazer a atualização das posições ionicas para encontrar as estruturas com menor enegia (convergidas).\n",
    "\n",
    "Vamos utilizar a estrutura original do CaAlF5 como protótipo e manter a simetria, trocando apenas os átomos dos elementos da mesma coluna da tabela periódica.\n",
    "\n",
    "Primeiro vamos carregar nosso protótipo:"
   ]
  },
  {
   "cell_type": "code",
   "execution_count": null,
   "id": "9e6e966c",
   "metadata": {},
   "outputs": [],
   "source": [
    "input_folder = 'ht/proto_CaAlF5'  # Pasta onde está a estrutura inicial (POSCAR) usada como protótipo\n",
    "proto_poscar = Structure.from_file(input_folder+\"/POSCAR\")  # Estrutura protótipo"
   ]
  },
  {
   "cell_type": "code",
   "execution_count": null,
   "id": "d1d88170",
   "metadata": {},
   "outputs": [],
   "source": [
    "proto_poscar"
   ]
  },
  {
   "cell_type": "code",
   "execution_count": null,
   "id": "f1c79251",
   "metadata": {},
   "outputs": [],
   "source": [
    "proto_space_group = SpacegroupAnalyzer(proto_poscar, symprec=0.1, angle_tolerance=1.0)\n",
    "proto_space_group.get_space_group_number()"
   ]
  },
  {
   "cell_type": "markdown",
   "id": "e7644094",
   "metadata": {},
   "source": [
    "Vamos usar as seguintes configurações de arquivos VASP:"
   ]
  },
  {
   "cell_type": "code",
   "execution_count": null,
   "id": "44b4b009",
   "metadata": {},
   "outputs": [],
   "source": [
    "incar_rx = {\n",
    "\"ALGO\": \"Normal\",\n",
    "\"EDIFF\": \"0.000001\",\n",
    "\"ENCUT\": 520,\n",
    "\"IBRION\": 2,\n",
    "\"ISIF\": 3,\n",
    "\"ISMEAR\": 0,\n",
    "\"ISPIN\": 1,\n",
    "\"LASPH\": True,\n",
    "\"LORBIT\": 11,\n",
    "\"LREAL\": \"Auto\",\n",
    "\"LWAVE\": False,\n",
    "\"LCHARG\":False,\n",
    "\"NELM\": 100,\n",
    "\"NSW\": 900,\n",
    "\"SIGMA\": 0.05,\n",
    "\"NPAR\": 6\n",
    "}\n",
    "\n",
    "auto_kpoints = 25"
   ]
  },
  {
   "cell_type": "markdown",
   "id": "3d89cfc5",
   "metadata": {},
   "source": [
    "Agora iremos criar a estrutura de pasta com todos os arquivos necessários para submeter as contas e todos os novos compostos:"
   ]
  },
  {
   "cell_type": "code",
   "execution_count": null,
   "id": "f12079ce",
   "metadata": {},
   "outputs": [],
   "source": [
    "# Lista de elementos que serão usados para fazer as substituições químicas\n",
    "earthalk_list = ['Be','Mg','Ca','Sr','Ba']\n",
    "boron_list = ['B','Al','Ga','In','Tl']\n",
    "halogen_list = ['F','Cl','Br','I']"
   ]
  },
  {
   "cell_type": "code",
   "execution_count": null,
   "id": "e1a157bf",
   "metadata": {},
   "outputs": [],
   "source": [
    "calculations_folder = 'ht/rx'\n",
    "os.mkdir(calculations_folder)\n",
    "\n",
    "for e1 in earthalk_list:\n",
    "    for e2 in boron_list:\n",
    "        for e3 in halogen_list:\n",
    "            \n",
    "            # Nova pasta para o novo material em disco\n",
    "            output_folder=calculations_folder+'/'+e1+e2+e3+'5'\n",
    "            os.mkdir(output_folder)\n",
    "            \n",
    "            temp_structure = proto_poscar.copy()          # Cópia da estrutura original em memória\n",
    "\n",
    "            if not(e1=='Ca' and e2=='Al' and e3=='F'):\n",
    "                for i, element in enumerate(proto_poscar):    # Para dada atomo na estrutura\n",
    "                    element_str = str(element.species)        # Pega o atomo no sítio\n",
    "                    element_str = element_str.replace('1','') # Remove o número de estequiometria (no caso o número é 1)\n",
    "\n",
    "                    # Troca apenas elementos da mesma familia\n",
    "                    if element_str in earthalk_list:\n",
    "                        temp_structure.replace(i,e1)\n",
    "                    elif element_str in boron_list:\n",
    "                        temp_structure.replace(i,e2)\n",
    "                    elif element_str in halogen_list:\n",
    "                        temp_structure.replace(i,e3)\n",
    "\n",
    "            # Aviso de que a eventualmente uma estrutura não manteve a simetria pretendida\n",
    "            space_group = SpacegroupAnalyzer(temp_structure, symprec=0.1, angle_tolerance=1.0)\n",
    "            if not(space_group.get_space_group_number()==proto_space_group.get_space_group_number()):\n",
    "                print('Warning: Estrutura '+e1+e2+e3+'5 com grupo espacial diferente do protótipo!') \n",
    "\n",
    "            # Criar o novo POSCAR na pasta de destino\n",
    "            new_poscar = vasp.inputs.Poscar(temp_structure)\n",
    "            new_poscar.write_file(output_folder+'/POSCAR')\n",
    "            \n",
    "            # Criar o arquivo KPOINTS na pasta de destino\n",
    "            kpoints = vasp.Kpoints().automatic(auto_kpoints)       # Método automatico com auto_kpoints (25) pontos\n",
    "            kpoints.write_file(output_folder+'/KPOINTS')\n",
    "            \n",
    "            # Criar arquivo INCAR na pasta de destino\n",
    "            incar = vasp.Incar(incar_rx)\n",
    "            incar.write_file(output_folder+'/INCAR')\n",
    "            \n",
    "            # Criar arquivo POTCAR na pasta de destino\n",
    "            \n",
    "            \n",
    "            # Criar arquivo JOB na pasta de destino\n",
    "            "
   ]
  },
  {
   "cell_type": "code",
   "execution_count": null,
   "id": "2eef1ed0",
   "metadata": {},
   "outputs": [],
   "source": []
  }
 ],
 "metadata": {
  "kernelspec": {
   "display_name": "Python 3",
   "language": "python",
   "name": "python3"
  },
  "language_info": {
   "codemirror_mode": {
    "name": "ipython",
    "version": 3
   },
   "file_extension": ".py",
   "mimetype": "text/x-python",
   "name": "python",
   "nbconvert_exporter": "python",
   "pygments_lexer": "ipython3",
   "version": "3.9.5"
  }
 },
 "nbformat": 4,
 "nbformat_minor": 5
}
